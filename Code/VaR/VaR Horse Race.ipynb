{
 "cells": [
  {
   "cell_type": "code",
   "execution_count": 1,
   "metadata": {},
   "outputs": [],
   "source": [
    "import pandas as pd\n",
    "import numpy as np"
   ]
  },
  {
   "cell_type": "code",
   "execution_count": null,
   "metadata": {},
   "outputs": [],
   "source": []
  },
  {
   "cell_type": "code",
   "execution_count": 9,
   "metadata": {},
   "outputs": [],
   "source": [
    "spx = pd.read_csv(\"./spx.csv\")\n",
    "spx_ret = spx[['Close']].pct_change().dropna()\n",
    "date_arr = np.array(spx['Date'])\n",
    "n = len(date_arr)"
   ]
  },
  {
   "cell_type": "code",
   "execution_count": 56,
   "metadata": {
    "scrolled": false
   },
   "outputs": [
    {
     "name": "stdout",
     "output_type": "stream",
     "text": [
      "0.011614666363015258\n"
     ]
    }
   ],
   "source": [
    "count1 = 0\n",
    "for i in range(250, n-10):\n",
    "    arr = spx_ret.iloc[i-250:i]\n",
    "    var_10D = np.sqrt(10)*np.percentile(arr, 1)\n",
    "    ret_10D = 1\n",
    "    for j in range(i, i+10):\n",
    "        ret_10D *= (1+spx_ret['Close'][j])\n",
    "    ret_10D -= 1\n",
    "    if ret_10D < var_10D:\n",
    "        count1 += 1\n",
    "print(count1/(n-260))"
   ]
  },
  {
   "cell_type": "code",
   "execution_count": 49,
   "metadata": {},
   "outputs": [
    {
     "name": "stdout",
     "output_type": "stream",
     "text": [
      "0.016852653154179\n"
     ]
    }
   ],
   "source": [
    "rolling_ret = ((1+spx_ret).rolling(10).apply(np.prod, raw=True)-1).dropna()\n",
    "count2 = 0\n",
    "for i in range(250, n-10):\n",
    "    arr = rolling_ret.iloc[i-250:i]\n",
    "    var_10D = np.percentile(arr, 1)\n",
    "    ret_10D = 1\n",
    "    for j in range(i, i+10):\n",
    "        ret_10D *= (1+spx_ret['Close'][j])\n",
    "    ret_10D -= 1\n",
    "    if ret_10D < var_10D:\n",
    "        count2 += 1\n",
    "print(count2/(n-260))"
   ]
  },
  {
   "cell_type": "code",
   "execution_count": 57,
   "metadata": {},
   "outputs": [
    {
     "data": {
      "text/plain": [
       "4651"
      ]
     },
     "execution_count": 57,
     "metadata": {},
     "output_type": "execute_result"
    }
   ],
   "source": [
    "n"
   ]
  },
  {
   "cell_type": "code",
   "execution_count": null,
   "metadata": {},
   "outputs": [],
   "source": []
  },
  {
   "cell_type": "code",
   "execution_count": null,
   "metadata": {},
   "outputs": [],
   "source": []
  },
  {
   "cell_type": "code",
   "execution_count": null,
   "metadata": {},
   "outputs": [],
   "source": []
  }
 ],
 "metadata": {
  "kernelspec": {
   "display_name": "Python 3",
   "language": "python",
   "name": "python3"
  },
  "language_info": {
   "codemirror_mode": {
    "name": "ipython",
    "version": 3
   },
   "file_extension": ".py",
   "mimetype": "text/x-python",
   "name": "python",
   "nbconvert_exporter": "python",
   "pygments_lexer": "ipython3",
   "version": "3.7.4"
  }
 },
 "nbformat": 4,
 "nbformat_minor": 2
}
