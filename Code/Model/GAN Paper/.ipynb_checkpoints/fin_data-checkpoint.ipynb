{
 "cells": [
  {
   "cell_type": "code",
   "execution_count": 3,
   "metadata": {},
   "outputs": [],
   "source": [
    "import numpy as np\n",
    "import import_ipynb\n",
    "\n",
    "from data import data_manager\n",
    "\n",
    "class data_generator():\n",
    "    def __init__(self):\n",
    "        self.sequence_length = 1024*8\n",
    "        self.batch_size = 12\n",
    "        self.learning_phase = \"train\"\n",
    "        self.train_split = 0.8\n",
    "\n",
    "    def snp500_index(self):\n",
    "        s = data_manager()\n",
    "        s.prepare_pd()\n",
    "        table = s.get_pd_table()\n",
    "        return table['Log Return'].as_matrix()\n",
    "\n",
    "    def index_data_random_picker(self):\n",
    "        s = data_manager()\n",
    "        s.prepare_pd()\n",
    "        table = s.get_pd_table()\n",
    "        sequence = table['Log Return'].as_matrix()\n",
    "        size = table['Log Return'].as_matrix().size\n",
    "        data = []\n",
    "        for i in range(self.batch_size):\n",
    "            random_pos = np.random.randint(0,size-self.sequence_length)\n",
    "            data.append([sequence[random_pos:random_pos+self.sequence_length]])\n",
    "        data = np.array(data)\n",
    "        #data /= max(data.max(),-data.min())\n",
    "        data = np.reshape(data,(self.batch_size,self.sequence_length,1))\n",
    "        return data"
   ]
  },
  {
   "cell_type": "code",
   "execution_count": null,
   "metadata": {},
   "outputs": [],
   "source": []
  }
 ],
 "metadata": {
  "kernelspec": {
   "display_name": "Python 3",
   "language": "python",
   "name": "python3"
  },
  "language_info": {
   "codemirror_mode": {
    "name": "ipython",
    "version": 3
   },
   "file_extension": ".py",
   "mimetype": "text/x-python",
   "name": "python",
   "nbconvert_exporter": "python",
   "pygments_lexer": "ipython3",
   "version": "3.7.4"
  }
 },
 "nbformat": 4,
 "nbformat_minor": 2
}
