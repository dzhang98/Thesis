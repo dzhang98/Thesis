{
 "cells": [
  {
   "cell_type": "code",
   "execution_count": 13,
   "metadata": {},
   "outputs": [],
   "source": [
    "import pandas_datareader as pdr\n",
    "import pandas as pd\n",
    "import datetime\n",
    "\n",
    "ticker = \"^GSPC\"\n",
    "start=datetime.date(1980, 1, 1)\n",
    "end=datetime.date(2019, 1, 1)\n",
    "sp500 = pdr.get_data_yahoo(ticker, start, end)\n",
    "sp500.to_csv('sp500.csv')"
   ]
  },
  {
   "cell_type": "code",
   "execution_count": 14,
   "metadata": {},
   "outputs": [],
   "source": [
    "import pandas as pd\n",
    "import numpy as np\n",
    "import os\n",
    "from datetime import datetime\n",
    "import warnings\n",
    "\n",
    "warnings.filterwarnings('ignore')\n",
    "\n",
    "class data_manager():\n",
    "\tdef __init__(self):\n",
    "\t\tself.csv_file = 'sp500.csv'\n",
    "\t\tpass\n",
    "\n",
    "#where to normalize?\n",
    "\tdef prepare_pd(self):\n",
    "\t\tself.read_csv()\n",
    "\t\tself.parse_date()\n",
    "\t\tself.data_begin_date = None\n",
    "\t\tself.data_end_date = None\n",
    "\t\tself.add_columns()\n",
    "\n",
    "\tdef add_columns(self,is_financial = True, contain_adjusted = True,contain_volume=True,validation_split=0.81):\n",
    "\t\tif is_financial:\n",
    "\t\t\tif contain_adjusted:\n",
    "\t\t\t\tself.data['Log Return'] = np.log(self.data['Adj Close']) - np.log(self.data['Adj Close'].shift(1))\n",
    "\t\t\t\tself.data['Pct Change'] = self.data['Adj Close'].pct_change().dropna()\n",
    "\t\t\telse:\n",
    "\t\t\t\tself.data['Log Return'] = np.log(self.data['Close']) - np.log(self.data['Close'].shift(1))\n",
    "\t\t\t\tself.data['Pct Change'] = self.data['Close'].pct_change().dropna()\n",
    "\n",
    "\t\t\tself.data = self.data.dropna()\n",
    "\n",
    "\n",
    "\tdef read_csv(self):\n",
    "\t\tself.data = pd.read_csv(self.csv_file)\n",
    "\n",
    "\tdef get_pd_table(self,**kwargs):\n",
    "\t\ttable = self.data\n",
    "\t\tif 'date_start' in kwargs:\n",
    "\t\t\ttable = table.ix[table['Date'] > kwargs['date_start']]\n",
    "\t\t\tkwargs.pop('date_start')\n",
    "\t\tif 'date_end' in kwargs:\n",
    "\t\t\ttable = table.ix[self.data['Date'] < kwargs['date_end']]\n",
    "\t\t\tkwargs.pop('date_end')\n",
    "\n",
    "\t\treturn table\n",
    "\n",
    "\tdef parse_date(self):\n",
    "\t\tself.data['Date'] = pd.to_datetime(self.data['Date'])\n",
    "\t\toldtime_table = self.data.copy()\n",
    "\t\toldtime_table['Date'] -= pd.Timedelta(100,'Y')\n",
    "\t\tself.data = self.data.where(self.data['Date'] < pd.to_datetime('2017/1/1'),oldtime_table)"
   ]
  },
  {
   "cell_type": "code",
   "execution_count": null,
   "metadata": {},
   "outputs": [],
   "source": []
  }
 ],
 "metadata": {
  "kernelspec": {
   "display_name": "Python 3",
   "language": "python",
   "name": "python3"
  },
  "language_info": {
   "codemirror_mode": {
    "name": "ipython",
    "version": 3
   },
   "file_extension": ".py",
   "mimetype": "text/x-python",
   "name": "python",
   "nbconvert_exporter": "python",
   "pygments_lexer": "ipython3",
   "version": "3.7.4"
  }
 },
 "nbformat": 4,
 "nbformat_minor": 2
}
