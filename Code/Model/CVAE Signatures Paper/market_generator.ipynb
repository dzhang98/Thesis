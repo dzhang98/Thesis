{
 "cells": [
  {
   "cell_type": "code",
   "execution_count": 2,
   "metadata": {},
   "outputs": [
    {
     "name": "stdout",
     "output_type": "stream",
     "text": [
      "importing Jupyter notebook from cvae.ipynb\n"
     ]
    },
    {
     "name": "stderr",
     "output_type": "stream",
     "text": [
      "c:\\users\\dorot\\anaconda3\\lib\\site-packages\\tensorflow\\python\\framework\\dtypes.py:516: FutureWarning: Passing (type, 1) or '1type' as a synonym of type is deprecated; in a future version of numpy, it will be understood as (type, (1,)) / '(1,)type'.\n",
      "  _np_qint8 = np.dtype([(\"qint8\", np.int8, 1)])\n",
      "c:\\users\\dorot\\anaconda3\\lib\\site-packages\\tensorflow\\python\\framework\\dtypes.py:517: FutureWarning: Passing (type, 1) or '1type' as a synonym of type is deprecated; in a future version of numpy, it will be understood as (type, (1,)) / '(1,)type'.\n",
      "  _np_quint8 = np.dtype([(\"quint8\", np.uint8, 1)])\n",
      "c:\\users\\dorot\\anaconda3\\lib\\site-packages\\tensorflow\\python\\framework\\dtypes.py:518: FutureWarning: Passing (type, 1) or '1type' as a synonym of type is deprecated; in a future version of numpy, it will be understood as (type, (1,)) / '(1,)type'.\n",
      "  _np_qint16 = np.dtype([(\"qint16\", np.int16, 1)])\n",
      "c:\\users\\dorot\\anaconda3\\lib\\site-packages\\tensorflow\\python\\framework\\dtypes.py:519: FutureWarning: Passing (type, 1) or '1type' as a synonym of type is deprecated; in a future version of numpy, it will be understood as (type, (1,)) / '(1,)type'.\n",
      "  _np_quint16 = np.dtype([(\"quint16\", np.uint16, 1)])\n",
      "c:\\users\\dorot\\anaconda3\\lib\\site-packages\\tensorflow\\python\\framework\\dtypes.py:520: FutureWarning: Passing (type, 1) or '1type' as a synonym of type is deprecated; in a future version of numpy, it will be understood as (type, (1,)) / '(1,)type'.\n",
      "  _np_qint32 = np.dtype([(\"qint32\", np.int32, 1)])\n",
      "c:\\users\\dorot\\anaconda3\\lib\\site-packages\\tensorflow\\python\\framework\\dtypes.py:525: FutureWarning: Passing (type, 1) or '1type' as a synonym of type is deprecated; in a future version of numpy, it will be understood as (type, (1,)) / '(1,)type'.\n",
      "  np_resource = np.dtype([(\"resource\", np.ubyte, 1)])\n",
      "c:\\users\\dorot\\anaconda3\\lib\\site-packages\\tensorboard\\compat\\tensorflow_stub\\dtypes.py:541: FutureWarning: Passing (type, 1) or '1type' as a synonym of type is deprecated; in a future version of numpy, it will be understood as (type, (1,)) / '(1,)type'.\n",
      "  _np_qint8 = np.dtype([(\"qint8\", np.int8, 1)])\n",
      "c:\\users\\dorot\\anaconda3\\lib\\site-packages\\tensorboard\\compat\\tensorflow_stub\\dtypes.py:542: FutureWarning: Passing (type, 1) or '1type' as a synonym of type is deprecated; in a future version of numpy, it will be understood as (type, (1,)) / '(1,)type'.\n",
      "  _np_quint8 = np.dtype([(\"quint8\", np.uint8, 1)])\n",
      "c:\\users\\dorot\\anaconda3\\lib\\site-packages\\tensorboard\\compat\\tensorflow_stub\\dtypes.py:543: FutureWarning: Passing (type, 1) or '1type' as a synonym of type is deprecated; in a future version of numpy, it will be understood as (type, (1,)) / '(1,)type'.\n",
      "  _np_qint16 = np.dtype([(\"qint16\", np.int16, 1)])\n",
      "c:\\users\\dorot\\anaconda3\\lib\\site-packages\\tensorboard\\compat\\tensorflow_stub\\dtypes.py:544: FutureWarning: Passing (type, 1) or '1type' as a synonym of type is deprecated; in a future version of numpy, it will be understood as (type, (1,)) / '(1,)type'.\n",
      "  _np_quint16 = np.dtype([(\"quint16\", np.uint16, 1)])\n",
      "c:\\users\\dorot\\anaconda3\\lib\\site-packages\\tensorboard\\compat\\tensorflow_stub\\dtypes.py:545: FutureWarning: Passing (type, 1) or '1type' as a synonym of type is deprecated; in a future version of numpy, it will be understood as (type, (1,)) / '(1,)type'.\n",
      "  _np_qint32 = np.dtype([(\"qint32\", np.int32, 1)])\n",
      "c:\\users\\dorot\\anaconda3\\lib\\site-packages\\tensorboard\\compat\\tensorflow_stub\\dtypes.py:550: FutureWarning: Passing (type, 1) or '1type' as a synonym of type is deprecated; in a future version of numpy, it will be understood as (type, (1,)) / '(1,)type'.\n",
      "  np_resource = np.dtype([(\"resource\", np.ubyte, 1)])\n"
     ]
    }
   ],
   "source": [
    "import datetime\n",
    "import numpy as np\n",
    "import pandas_datareader as pdr\n",
    "from tqdm.auto import tqdm\n",
    "from sklearn.preprocessing import MinMaxScaler\n",
    "from utils.leadlag import leadlag #USE THIS LINE FOR JUPYTER NOTEBOOK\n",
    "#from leadlag import leadlag #USE THIS LINE FOR GOOGLE COLAB\n",
    "\n",
    "import import_ipynb\n",
    "from cvae import CVAE\n",
    "\n",
    "\n",
    "class MarketGenerator:\n",
    "    def __init__(self, ticker, start=datetime.date(1970, 1, 1),\n",
    "                 end=datetime.date(2021, 5, 14), freq=\"M\"):\n",
    "\n",
    "        self.ticker = ticker\n",
    "        self.start = start\n",
    "        self.end = end\n",
    "        self.freq = freq\n",
    "\n",
    "        self._load_data()\n",
    "\n",
    "        self._build_dataset()\n",
    "        self.generator = CVAE(n_latent=2, alpha=0.003)\n",
    "\n",
    "\n",
    "    def _load_data(self):\n",
    "        try:\n",
    "            self.data = pdr.get_data_yahoo(self.ticker, self.start, self.end)[\"Close\"]\n",
    "        except:\n",
    "            raise RuntimeError(f\"Could not download data for {self.ticker} from {self.start} to {self.end}.\")\n",
    "        \n",
    "        #self.data = spx_df[self.start <= spx_df['Date'] <= self.end][['Date', 'Close']].set_index(\"Date\").squeeze()\n",
    "        \n",
    "        \n",
    "        self.windows = []\n",
    "        for _, window in self.data.resample(self.freq):\n",
    "            values = window.values \n",
    "            path = leadlag(values)\n",
    "\n",
    "            self.windows.append(path)\n",
    "\n",
    "    def _build_dataset(self):\n",
    "        # Calculates log-returns of path (no signatures)\n",
    "        temp_path = self.windows[0]\n",
    "\n",
    "        self.orig_logsig = np.array([np.diff(np.log(path[::2, 1])) for path in self.windows])\n",
    "        self.orig_logsig = np.array([p for p in self.orig_logsig if len(p) >= 4])\n",
    "        steps = min(map(len, self.orig_logsig))\n",
    "        self.orig_logsig = np.array([val[:steps] for val in self.orig_logsig])\n",
    "\n",
    "        self.scaler = MinMaxScaler(feature_range=(0.00001, 0.99999))\n",
    "        logsig = self.scaler.fit_transform(self.orig_logsig)\n",
    "\n",
    "        self.logsigs = logsig[1:]\n",
    "        self.conditions = logsig[:-1]\n",
    "\n",
    "    def train(self, n_epochs=10000):\n",
    "        self.generator.train(self.logsigs, self.conditions, n_epochs=n_epochs)\n",
    "\n",
    "    def generate(self, logsig, n_samples=None, normalised=False):\n",
    "        generated = self.generator.generate(logsig, n_samples=n_samples)\n",
    "\n",
    "        if normalised:\n",
    "            return generated\n",
    "\n",
    "        if n_samples is None:\n",
    "            return self.scaler.inverse_transform(generated.reshape(1, -1))[0]\n",
    "\n",
    "        return self.scaler.inverse_transform(generated)\n",
    "    \n",
    "    "
   ]
  },
  {
   "cell_type": "code",
   "execution_count": 3,
   "metadata": {},
   "outputs": [],
   "source": []
  },
  {
   "cell_type": "code",
   "execution_count": null,
   "metadata": {},
   "outputs": [],
   "source": []
  },
  {
   "cell_type": "code",
   "execution_count": null,
   "metadata": {},
   "outputs": [],
   "source": []
  }
 ],
 "metadata": {
  "kernelspec": {
   "display_name": "Python 3",
   "language": "python",
   "name": "python3"
  },
  "language_info": {
   "codemirror_mode": {
    "name": "ipython",
    "version": 3
   },
   "file_extension": ".py",
   "mimetype": "text/x-python",
   "name": "python",
   "nbconvert_exporter": "python",
   "pygments_lexer": "ipython3",
   "version": "3.7.4"
  }
 },
 "nbformat": 4,
 "nbformat_minor": 2
}
