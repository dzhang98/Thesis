{
 "cells": [
  {
   "cell_type": "code",
   "execution_count": 2,
   "metadata": {},
   "outputs": [
    {
     "name": "stdout",
     "output_type": "stream",
     "text": [
      "importing Jupyter notebook from cvae.ipynb\n"
     ]
    }
   ],
   "source": [
    "import datetime\n",
    "import numpy as np\n",
    "import pandas_datareader as pdr\n",
    "from esig import tosig\n",
    "from tqdm.auto import tqdm\n",
    "from sklearn.preprocessing import MinMaxScaler\n",
    "from utils.leadlag import leadlag\n",
    "\n",
    "import import_ipynb\n",
    "from cvae import CVAE"
   ]
  },
  {
   "cell_type": "code",
   "execution_count": 7,
   "metadata": {},
   "outputs": [],
   "source": [
    "class MarketGenerator:\n",
    "    def __init__(self, ticker, start=datetime.date(2000, 1, 1),\n",
    "                 end=datetime.date(2019, 1, 1), freq=\"M\",\n",
    "                 sig_order=4):\n",
    "\n",
    "        self.ticker = ticker\n",
    "        self.start = start\n",
    "        self.end = end\n",
    "        self.freq = freq\n",
    "        self.order = sig_order\n",
    "\n",
    "        self._load_data()\n",
    "\n",
    "        self._build_dataset()\n",
    "        self.generator = CVAE(n_latent=8, alpha=0.003)\n",
    "\n",
    "\n",
    "    def _load_data(self):\n",
    "        try:\n",
    "            self.data = pdr.get_data_yahoo(self.ticker, self.start, self.end)[\"Close\"]\n",
    "        except:\n",
    "            raise RuntimeError(f\"Could not download data for {self.ticker} from {self.start} to {self.end}.\")\n",
    "\n",
    "        self.windows = []\n",
    "        for _, window in self.data.resample(self.freq):\n",
    "            values = window.values \n",
    "            path = leadlag(values)\n",
    "\n",
    "            self.windows.append(path)\n",
    "\n",
    "    def _logsig(self, path):\n",
    "        return tosig.stream2logsig(path, self.order)\n",
    "\n",
    "    def _build_dataset(self):\n",
    "        if self.order:\n",
    "            self.orig_logsig = np.array([self._logsig(path) for path in tqdm(self.windows, desc=\"Computing log-signatures\")])\n",
    "        else:\n",
    "            # Calculates log-returns of path (no signatures)\n",
    "            temp_path = self.windows[0]\n",
    "                        \n",
    "            self.orig_logsig = np.array([np.diff(np.log(path[::2, 1])) for path in self.windows])\n",
    "            self.orig_logsig = np.array([p for p in self.orig_logsig if len(p) >= 4])\n",
    "            steps = min(map(len, self.orig_logsig))\n",
    "            self.orig_logsig = np.array([val[:steps] for val in self.orig_logsig])\n",
    "\n",
    "        self.scaler = MinMaxScaler(feature_range=(0.00001, 0.99999))\n",
    "        logsig = self.scaler.fit_transform(self.orig_logsig)\n",
    "\n",
    "        self.logsigs = logsig[1:]\n",
    "        self.conditions = logsig[:-1]\n",
    "        \n",
    "\n",
    "    def train(self, n_epochs=10000):\n",
    "        self.generator.train(self.logsigs, self.conditions, n_epochs=n_epochs)\n",
    "\n",
    "    def generate(self, logsig, n_samples=None, normalised=False):\n",
    "        generated = self.generator.generate(logsig, n_samples=n_samples)\n",
    "\n",
    "        if normalised:\n",
    "            return generated\n",
    "\n",
    "        if n_samples is None:\n",
    "            return self.scaler.inverse_transform(generated.reshape(1, -1))[0]\n",
    "\n",
    "        return self.scaler.inverse_transform(generated)\n",
    "    \n",
    "    "
   ]
  },
  {
   "cell_type": "code",
   "execution_count": null,
   "metadata": {},
   "outputs": [],
   "source": []
  }
 ],
 "metadata": {
  "kernelspec": {
   "display_name": "Python 3",
   "language": "python",
   "name": "python3"
  },
  "language_info": {
   "codemirror_mode": {
    "name": "ipython",
    "version": 3
   },
   "file_extension": ".py",
   "mimetype": "text/x-python",
   "name": "python",
   "nbconvert_exporter": "python",
   "pygments_lexer": "ipython3",
   "version": "3.7.4"
  }
 },
 "nbformat": 4,
 "nbformat_minor": 2
}
