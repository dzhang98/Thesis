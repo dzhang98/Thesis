{
 "cells": [
  {
   "cell_type": "code",
   "execution_count": null,
   "metadata": {},
   "outputs": [],
   "source": [
    "from tqdm import tqdm\n",
    "import matplotlib.pyplot as plt\n",
    "import numpy as np\n",
    "import datetime\n",
    "import pandas as pd\n",
    "\n",
    "import import_ipynb\n",
    "import market_generator\n",
    "\n",
    "import sys\n",
    "sys.path.insert(0, \"../src\")\n",
    "\n",
    "sys.path.insert(0, 'C:/Users/dorot/Documents/Thesis/Code/Data')"
   ]
  },
  {
   "cell_type": "code",
   "execution_count": null,
   "metadata": {},
   "outputs": [],
   "source": []
  },
  {
   "cell_type": "code",
   "execution_count": null,
   "metadata": {},
   "outputs": [],
   "source": [
    "# ^GSPC is S&P 500.\n",
    "ticker = \"^GSPC\" #'^VIX' #\"BTC-USD\" #\"^GSPC\"  #\"CADUSD=X\" is exchange rate\n",
    "df = pd.read_csv(\"spx.csv\")"
   ]
  },
  {
   "cell_type": "code",
   "execution_count": null,
   "metadata": {},
   "outputs": [],
   "source": [
    "date_arr = np.array(df['Date'])\n",
    "n = len(date_arr)\n",
    "spx_ret = df[['Close']].pct_change()"
   ]
  },
  {
   "cell_type": "code",
   "execution_count": null,
   "metadata": {
    "scrolled": false
   },
   "outputs": [],
   "source": [
    "count = 0\n",
    "for i in range(250, n-10):\n",
    "    start_date = datetime.datetime.fromisoformat(date_arr[i-250])\n",
    "    end_date = datetime.datetime.fromisoformat(date_arr[i])\n",
    "    MG = market_generator.MarketGenerator(ticker, start_date, end_date, \"W\")\n",
    "    MG.train(n_epochs=1000)\n",
    "    generated = np.array([MG.generate(cond, 20000) for cond in MG.conditions])\n",
    "    var_10D = np.sqrt(10)*np.percentile(generated.flatten(), 1)\n",
    "    ret_10D = 1\n",
    "    for j in range(i, i+10):\n",
    "        ret_10D *= (1+spx_ret['Close'][j])\n",
    "    ret_10D -= 1\n",
    "    if ret_10D < var_10D:\n",
    "        count += 1\n",
    "    if i%10 == 0:\n",
    "        print(i)\n",
    "print(count/(n-260))"
   ]
  },
  {
   "cell_type": "code",
   "execution_count": null,
   "metadata": {},
   "outputs": [],
   "source": []
  },
  {
   "cell_type": "code",
   "execution_count": null,
   "metadata": {},
   "outputs": [],
   "source": []
  },
  {
   "cell_type": "code",
   "execution_count": null,
   "metadata": {},
   "outputs": [],
   "source": []
  }
 ],
 "metadata": {
  "kernelspec": {
   "display_name": "Python 3",
   "language": "python",
   "name": "python3"
  },
  "language_info": {
   "codemirror_mode": {
    "name": "ipython",
    "version": 3
   },
   "file_extension": ".py",
   "mimetype": "text/x-python",
   "name": "python",
   "nbconvert_exporter": "python",
   "pygments_lexer": "ipython3",
   "version": "3.7.4"
  }
 },
 "nbformat": 4,
 "nbformat_minor": 2
}
