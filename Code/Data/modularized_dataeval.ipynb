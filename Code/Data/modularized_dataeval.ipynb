{
 "cells": [
  {
   "cell_type": "code",
   "execution_count": 1,
   "metadata": {},
   "outputs": [],
   "source": [
    "import pandas_datareader as pdr\n",
    "import datetime\n",
    "import numpy as np\n",
    "import pandas as pd\n",
    "import matplotlib.pyplot as plt\n",
    "from scipy.stats import kurtosis\n",
    "from scipy.stats import skew\n",
    "from scipy.stats import ks_2samp\n",
    "from scipy.stats import wasserstein_distance\n",
    "from scipy.stats import jarque_bera\n",
    "from scipy.stats import norm\n",
    "from scipy.stats import f\n",
    "import statsmodels.api as sm\n",
    "import statsmodels.tsa.api as smt\n",
    "import seaborn as sns"
   ]
  },
  {
   "cell_type": "code",
   "execution_count": 5,
   "metadata": {},
   "outputs": [],
   "source": [
    "def get_basic_stats(arr):\n",
    "    print(\"mean is: \", np.mean(arr))\n",
    "    print(\"standard deviation is: \", np.std(arr))\n",
    "    print(\"skew is: \", skew(arr))\n",
    "    print(\"kurtosis is: \", kurtosis(arr))\n",
    "    return np.mean(arr), np.std(arr), skew(arr), kurtosis(arr)"
   ]
  },
  {
   "cell_type": "code",
   "execution_count": 7,
   "metadata": {},
   "outputs": [],
   "source": [
    "def plot_hist_qq(arr):\n",
    "    plot_range = np.linspace(min(arr), max(arr), num=5000 )\n",
    "    pdf_series = norm.pdf(plot_range, loc=np.mean(arr), scale=np.std(arr))\n",
    "\n",
    "    fig, ax = plt.subplots(1, 2, figsize=(16, 8))\n",
    "\n",
    "    # Histogram\n",
    "    sns.distplot(arr, kde=False, norm_hist=True, ax=ax[0]) # STYLIZED FACT: high peak\n",
    "\n",
    "    ax[0].set_title('Distribution of returns', fontsize=16)\n",
    "    ax[0].plot(plot_range, pdf_series, 'b', lw=2, label=f'N({np.mean(arr):.2f}, {np.std(arr)**2:.4f})')\n",
    "    ax[0].legend(loc='upper left')\n",
    "\n",
    "    # QQ Plot\n",
    "    qq = sm.qqplot(arr, line='s', ax=ax[1]) # STYLIZED FACT: fat tails\n",
    "    ax[1].set_title('Q-Q plot', fontsize = 16)"
   ]
  },
  {
   "cell_type": "code",
   "execution_count": 8,
   "metadata": {},
   "outputs": [],
   "source": [
    "def compute_jarque_bera(arr):\n",
    "    \"\"\"\n",
    "    H_0 : distribution is normal at 99% confidence level\n",
    "    H_1 : distribution is not normal at 99% confidence level\n",
    "\n",
    "    - checks whether a distribution has skewness and kurtosis values matching that of a normal distribution\n",
    "    - result is a non-negative value - the farther from zero, the greater it deviates from normal distribution\n",
    "    \"\"\"\n",
    "    value = jarque_bera(arr)[0]\n",
    "    p_value = jarque_bera(arr)[1]\n",
    "    print(\"The Jarque-Bera test statistic value is\", value, \"with probability of\", p_value)"
   ]
  },
  {
   "cell_type": "code",
   "execution_count": 9,
   "metadata": {},
   "outputs": [],
   "source": [
    "def plot_volclusters(arr):\n",
    "    plt.plot([i for i in range(len(arr))], arr)"
   ]
  },
  {
   "cell_type": "code",
   "execution_count": 10,
   "metadata": {},
   "outputs": [],
   "source": [
    "def plot_autocorrelation(arr):\n",
    "    fig, ax = plt.subplots(3, figsize=(14, 20))\n",
    "\n",
    "    # For returns\n",
    "    smt.graphics.plot_acf(arr, lags=30, alpha=0.05, ax = ax[0])\n",
    "\n",
    "    ax[0].set(title='Autocorrelation plots of log returns', ylabel='Log Returns', xlabel='Lag')\n",
    "\n",
    "\n",
    "    # Using statsmodels library to obtain acf plot for squared returns\n",
    "    smt.graphics.plot_acf(arr ** 2, lags=100, alpha=0.05, ax = ax[1])\n",
    "\n",
    "    # Setting title, y-axis labels and x-axis labels of first subplot \n",
    "    ax[1].set(title='Autocorrelation plots of sqaured log returns', ylabel='Squared Log Returns', xlabel='Lag')\n",
    "\n",
    "    # Obtaining acf plot of absolute returns using abs function of numpy library\n",
    "    smt.graphics.plot_acf(np.abs(arr), lags=100, alpha=0.05, ax = ax[2])\n",
    "\n",
    "    # Setting title, y-axis labels and x-axis labels of second subplot \n",
    "    ax[2].set(title='Autocorrelation plots of absolute log returns', ylabel='Absolute Log Returns', xlabel='Lag')"
   ]
  },
  {
   "cell_type": "code",
   "execution_count": 11,
   "metadata": {},
   "outputs": [],
   "source": [
    "def KS_test(original_arr, gen_arr):\n",
    "    return ks_2samp(original_arr, gen_arr)"
   ]
  },
  {
   "cell_type": "code",
   "execution_count": null,
   "metadata": {},
   "outputs": [],
   "source": []
  }
 ],
 "metadata": {
  "kernelspec": {
   "display_name": "Python 3",
   "language": "python",
   "name": "python3"
  },
  "language_info": {
   "codemirror_mode": {
    "name": "ipython",
    "version": 3
   },
   "file_extension": ".py",
   "mimetype": "text/x-python",
   "name": "python",
   "nbconvert_exporter": "python",
   "pygments_lexer": "ipython3",
   "version": "3.7.4"
  }
 },
 "nbformat": 4,
 "nbformat_minor": 2
}
